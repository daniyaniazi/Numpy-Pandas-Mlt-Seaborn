{
 "cells": [
  {
   "cell_type": "code",
   "execution_count": 1,
   "metadata": {},
   "outputs": [],
   "source": [
    "import pandas as pd"
   ]
  },
  {
   "cell_type": "code",
   "execution_count": 2,
   "metadata": {},
   "outputs": [
    {
     "data": {
      "text/html": [
       "<div>\n",
       "<style scoped>\n",
       "    .dataframe tbody tr th:only-of-type {\n",
       "        vertical-align: middle;\n",
       "    }\n",
       "\n",
       "    .dataframe tbody tr th {\n",
       "        vertical-align: top;\n",
       "    }\n",
       "\n",
       "    .dataframe thead th {\n",
       "        text-align: right;\n",
       "    }\n",
       "</style>\n",
       "<table border=\"1\" class=\"dataframe\">\n",
       "  <thead>\n",
       "    <tr style=\"text-align: right;\">\n",
       "      <th></th>\n",
       "      <th>column_a</th>\n",
       "      <th>column_b</th>\n",
       "      <th>column_c</th>\n",
       "    </tr>\n",
       "  </thead>\n",
       "  <tbody>\n",
       "    <tr>\n",
       "      <td>0</td>\n",
       "      <td>1</td>\n",
       "      <td>1</td>\n",
       "      <td>10</td>\n",
       "    </tr>\n",
       "    <tr>\n",
       "      <td>1</td>\n",
       "      <td>2</td>\n",
       "      <td>4</td>\n",
       "      <td>8</td>\n",
       "    </tr>\n",
       "    <tr>\n",
       "      <td>2</td>\n",
       "      <td>3</td>\n",
       "      <td>9</td>\n",
       "      <td>6</td>\n",
       "    </tr>\n",
       "    <tr>\n",
       "      <td>3</td>\n",
       "      <td>4</td>\n",
       "      <td>16</td>\n",
       "      <td>4</td>\n",
       "    </tr>\n",
       "    <tr>\n",
       "      <td>4</td>\n",
       "      <td>5</td>\n",
       "      <td>25</td>\n",
       "      <td>2</td>\n",
       "    </tr>\n",
       "  </tbody>\n",
       "</table>\n",
       "</div>"
      ],
      "text/plain": [
       "   column_a  column_b  column_c\n",
       "0         1         1        10\n",
       "1         2         4         8\n",
       "2         3         9         6\n",
       "3         4        16         4\n",
       "4         5        25         2"
      ]
     },
     "execution_count": 2,
     "metadata": {},
     "output_type": "execute_result"
    }
   ],
   "source": [
    "pd.read_csv('sample_data.csv')"
   ]
  },
  {
   "cell_type": "code",
   "execution_count": 3,
   "metadata": {},
   "outputs": [
    {
     "data": {
      "text/html": [
       "<div>\n",
       "<style scoped>\n",
       "    .dataframe tbody tr th:only-of-type {\n",
       "        vertical-align: middle;\n",
       "    }\n",
       "\n",
       "    .dataframe tbody tr th {\n",
       "        vertical-align: top;\n",
       "    }\n",
       "\n",
       "    .dataframe thead th {\n",
       "        text-align: right;\n",
       "    }\n",
       "</style>\n",
       "<table border=\"1\" class=\"dataframe\">\n",
       "  <thead>\n",
       "    <tr style=\"text-align: right;\">\n",
       "      <th></th>\n",
       "      <th>EMPLOYER</th>\n",
       "      <th>ADDRESS1</th>\n",
       "      <th>ADDRESS2</th>\n",
       "      <th>CITY</th>\n",
       "      <th>ZIP</th>\n",
       "      <th>ST</th>\n",
       "      <th>Website</th>\n",
       "      <th>Phone</th>\n",
       "      <th>Email</th>\n",
       "    </tr>\n",
       "  </thead>\n",
       "  <tbody>\n",
       "    <tr>\n",
       "      <td>0</td>\n",
       "      <td>PERIODONTAL ASSOCIATES PA</td>\n",
       "      <td>7301 A. WEST PALMETTO PK RD.</td>\n",
       "      <td>NaN</td>\n",
       "      <td>BOCA RATON</td>\n",
       "      <td>33433</td>\n",
       "      <td>FL</td>\n",
       "      <td>https://www.flperioimplant.com/</td>\n",
       "      <td>+1 561-394-4519</td>\n",
       "      <td>info@flperioimplant.com</td>\n",
       "    </tr>\n",
       "    <tr>\n",
       "      <td>1</td>\n",
       "      <td>PERSONALIZED AIR CONDITIONING INC</td>\n",
       "      <td>159 NW 11TH ST</td>\n",
       "      <td>NaN</td>\n",
       "      <td>BOCA RATON</td>\n",
       "      <td>33432</td>\n",
       "      <td>FL</td>\n",
       "      <td>http://generatortogo.com/</td>\n",
       "      <td>+1 866-221-8100</td>\n",
       "      <td>info@ppsgenerators.com</td>\n",
       "    </tr>\n",
       "    <tr>\n",
       "      <td>2</td>\n",
       "      <td>PETER J LOWE MD PA</td>\n",
       "      <td>4175 S CONGRESS AVE STE V</td>\n",
       "      <td>NaN</td>\n",
       "      <td>LAKE WORTH</td>\n",
       "      <td>33461</td>\n",
       "      <td>FL</td>\n",
       "      <td>https://retinaleyecare.com/</td>\n",
       "      <td>+1 561-967-8000</td>\n",
       "      <td>info@retinaleyecare.com</td>\n",
       "    </tr>\n",
       "  </tbody>\n",
       "</table>\n",
       "</div>"
      ],
      "text/plain": [
       "                            EMPLOYER                      ADDRESS1  ADDRESS2  \\\n",
       "0          PERIODONTAL ASSOCIATES PA  7301 A. WEST PALMETTO PK RD.       NaN   \n",
       "1  PERSONALIZED AIR CONDITIONING INC                159 NW 11TH ST       NaN   \n",
       "2                 PETER J LOWE MD PA     4175 S CONGRESS AVE STE V       NaN   \n",
       "\n",
       "         CITY    ZIP  ST                          Website            Phone  \\\n",
       "0  BOCA RATON  33433  FL  https://www.flperioimplant.com/  +1 561-394-4519   \n",
       "1  BOCA RATON  33432  FL        http://generatortogo.com/  +1 866-221-8100   \n",
       "2  LAKE WORTH  33461  FL      https://retinaleyecare.com/  +1 561-967-8000   \n",
       "\n",
       "                     Email  \n",
       "0  info@flperioimplant.com  \n",
       "1   info@ppsgenerators.com  \n",
       "2  info@retinaleyecare.com  "
      ]
     },
     "execution_count": 3,
     "metadata": {},
     "output_type": "execute_result"
    }
   ],
   "source": [
    "pd.read_csv('PALM_BEACH.csv')"
   ]
  },
  {
   "cell_type": "code",
   "execution_count": 4,
   "metadata": {},
   "outputs": [],
   "source": [
    "#you can also import series\n",
    "#when you specify file  store in current working directory\n",
    "import os"
   ]
  },
  {
   "cell_type": "code",
   "execution_count": 6,
   "metadata": {},
   "outputs": [
    {
     "name": "stdout",
     "output_type": "stream",
     "text": [
      "C:\\Users\\DANIA NIAZI\\Desktop\\DANIYA\\MACHINE LEARNING\n"
     ]
    }
   ],
   "source": [
    "print(os.getcwd())"
   ]
  },
  {
   "cell_type": "code",
   "execution_count": null,
   "metadata": {},
   "outputs": [],
   "source": []
  }
 ],
 "metadata": {
  "kernelspec": {
   "display_name": "Python 3",
   "language": "python",
   "name": "python3"
  },
  "language_info": {
   "codemirror_mode": {
    "name": "ipython",
    "version": 3
   },
   "file_extension": ".py",
   "mimetype": "text/x-python",
   "name": "python",
   "nbconvert_exporter": "python",
   "pygments_lexer": "ipython3",
   "version": "3.7.4"
  }
 },
 "nbformat": 4,
 "nbformat_minor": 2
}
